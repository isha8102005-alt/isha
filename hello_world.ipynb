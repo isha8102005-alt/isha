{
  "nbformat": 4,
  "nbformat_minor": 0,
  "metadata": {
    "colab": {
      "provenance": [],
      "authorship_tag": "ABX9TyOKg9HyAq1cFn2DLx4+fjXu",
      "include_colab_link": true
    },
    "kernelspec": {
      "name": "python3",
      "display_name": "Python 3"
    },
    "language_info": {
      "name": "python"
    }
  },
  "cells": [
    {
      "cell_type": "markdown",
      "metadata": {
        "id": "view-in-github",
        "colab_type": "text"
      },
      "source": [
        "<a href=\"https://colab.research.google.com/github/isha8102005-alt/isha/blob/main/hello_world.ipynb\" target=\"_parent\"><img src=\"https://colab.research.google.com/assets/colab-badge.svg\" alt=\"Open In Colab\"/></a>"
      ]
    },
    {
      "cell_type": "code",
      "execution_count": 3,
      "metadata": {
        "colab": {
          "base_uri": "https://localhost:8080/"
        },
        "id": "dPyJE3Osw76a",
        "outputId": "a148b076-46c3-4079-c3cc-66eb28821cde"
      },
      "outputs": [
        {
          "output_type": "stream",
          "name": "stdout",
          "text": [
            "helloisha\n"
          ]
        }
      ],
      "source": [
        "# data anyaltics\n",
        "\"\"\"hello i am isha.i am data anyaltics from chandigaRH.\n",
        "i am 19 years old.i am from hamirpur.\"\"\"\n",
        "\n",
        "print(\"helloisha\")"
      ]
    },
    {
      "cell_type": "code",
      "source": [
        "print(\"isha kumari\")\n",
        "print(\"19\")"
      ],
      "metadata": {
        "colab": {
          "base_uri": "https://localhost:8080/"
        },
        "id": "Jpg_Dfzw1BMU",
        "outputId": "c949b26b-962c-40fd-e98c-ce6f4aa4a265"
      },
      "execution_count": 4,
      "outputs": [
        {
          "output_type": "stream",
          "name": "stdout",
          "text": [
            "isha kumari\n",
            "19\n"
          ]
        }
      ]
    },
    {
      "cell_type": "code",
      "source": [
        "# Bio data\n",
        "\"\"\"hello my name is isha kumari.i am graguate govt collage bhoranj. Religion- hindu\"\"\"\n",
        "print(\"Bio data\")\n",
        "my_name=\"isha kumari\"\n",
        "print(\"my name is isha kumari\", my_name)\n",
        "print(\"Name : isha kumari\")\n",
        "Age=19\n",
        "print(\"my age is\", Age)\n",
        "father_name=\"MOMRAJ\"\n",
        "PRINT(\"my father name is MomRaj\", father_name)\n",
        "print(\"Father name : MomRaj\")\n",
        "father_name=\"MomRaj\"\n",
        "print('my father name is Momraj')\n",
        "mother_name=\"sunita\"\n",
        "print(\"my mother name is sunita\", mother_name)\n",
        "print(\"Mother name : Sunita kumari\")\n",
        "print(\"Graguation : BA\")\n",
        "PRINT(\"GENDER : Female\")\n",
        "print(\"ADDRESS: Vill-dhasman, P.O KANJIAN,Teh- Bhoranj\")\n",
        "print(\"Religion : Hindu\")\n",
        "print(\"Experence : Fresher\")\n",
        "print(\"Languages : English,Hindi\")\n",
        "print(\"Marital status : unmarried\")\n",
        "print(\"mobile number : 7875694536\")\n",
        "print(\"Email id : isha8102005@gmail.com\")\n",
        "print(\"Hobbies :Books Reding, danceing,singing\")"
      ],
      "metadata": {
        "colab": {
          "base_uri": "https://localhost:8080/",
          "height": 280
        },
        "id": "5LOpAI2B1Lz0",
        "outputId": "31a0dc13-2b0b-485a-ae7e-3ced0aea4318"
      },
      "execution_count": 15,
      "outputs": [
        {
          "output_type": "stream",
          "name": "stdout",
          "text": [
            "Bio data\n",
            "my name is isha kumari isha kumari\n",
            "Name : isha kumari\n",
            "my age is 19\n"
          ]
        },
        {
          "output_type": "error",
          "ename": "NameError",
          "evalue": "name 'PRINT' is not defined",
          "traceback": [
            "\u001b[0;31m---------------------------------------------------------------------------\u001b[0m",
            "\u001b[0;31mNameError\u001b[0m                                 Traceback (most recent call last)",
            "\u001b[0;32m/tmp/ipython-input-2912513011.py\u001b[0m in \u001b[0;36m<cell line: 0>\u001b[0;34m()\u001b[0m\n\u001b[1;32m      8\u001b[0m \u001b[0mprint\u001b[0m\u001b[0;34m(\u001b[0m\u001b[0;34m\"my age is\"\u001b[0m\u001b[0;34m,\u001b[0m \u001b[0mAge\u001b[0m\u001b[0;34m)\u001b[0m\u001b[0;34m\u001b[0m\u001b[0;34m\u001b[0m\u001b[0m\n\u001b[1;32m      9\u001b[0m \u001b[0mfather_name\u001b[0m\u001b[0;34m=\u001b[0m\u001b[0;34m\"MOMRAJ\"\u001b[0m\u001b[0;34m\u001b[0m\u001b[0;34m\u001b[0m\u001b[0m\n\u001b[0;32m---> 10\u001b[0;31m \u001b[0mPRINT\u001b[0m\u001b[0;34m(\u001b[0m\u001b[0;34m\"my father name is MomRaj\"\u001b[0m\u001b[0;34m,\u001b[0m \u001b[0mfather_name\u001b[0m\u001b[0;34m)\u001b[0m\u001b[0;34m\u001b[0m\u001b[0;34m\u001b[0m\u001b[0m\n\u001b[0m\u001b[1;32m     11\u001b[0m \u001b[0mprint\u001b[0m\u001b[0;34m(\u001b[0m\u001b[0;34m\"Father name : MomRaj\"\u001b[0m\u001b[0;34m)\u001b[0m\u001b[0;34m\u001b[0m\u001b[0;34m\u001b[0m\u001b[0m\n\u001b[1;32m     12\u001b[0m \u001b[0mfather_name\u001b[0m\u001b[0;34m=\u001b[0m\u001b[0;34m\"MomRaj\"\u001b[0m\u001b[0;34m\u001b[0m\u001b[0;34m\u001b[0m\u001b[0m\n",
            "\u001b[0;31mNameError\u001b[0m: name 'PRINT' is not defined"
          ]
        }
      ]
    },
    {
      "cell_type": "code",
      "source": [
        "#bio data\n",
        "name=anudeep padala,mobile no.=7876031543,\n",
        "date of birth=21 july 2000,gender=male,\n",
        "father's name=Ravi kumar,Relgion=hindu\n",
        "print(\"anudeep padala\")\n",
        "print(\"name :Anudeep padala\")\n",
        "print(\"mobile no : 7876031543\")\n",
        "print(\"email : anudeeppdxx@gmail.com\")\n",
        "print(\"dob : 21 july 2000\")\n",
        "print(\"gender : male\")\n",
        "print(\"father name:ravi kumar\")\n",
        "print(\"religion : hindu\")\n",
        "print(\"nationality : indian\")\n",
        "print(\"marital_status : unmarried\")\n",
        "print(\"languages known : english,hindi\")\n",
        "\n",
        "#Education\n",
        "print(\"bcom collage : aditya degree collage\")\n",
        "print(\"bcon pass year : 2022\")\n",
        "print(\"bcom gpa : 7.2\")\n",
        "print(\"school name : mch school\")\n",
        "print(\"school pass year : 2018)\n",
        "print(\"school gpt : 7.5\")\n",
        "print(\"experience : freshers\")\n",
        "print(\"address : 8-124,ganesh nagar, chandram palem, madhurawada,visakhapatnam, andhra pradesh 530048\")"
      ],
      "metadata": {
        "id": "Xtx5goULDBEe",
        "outputId": "a8d17613-0737-4ad7-fe1a-e5ceabd75261",
        "colab": {
          "base_uri": "https://localhost:8080/"
        }
      },
      "execution_count": 18,
      "outputs": [
        {
          "output_type": "stream",
          "name": "stdout",
          "text": [
            "anudeep padala\n"
          ]
        }
      ]
    }
  ]
}