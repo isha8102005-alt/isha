{
  "nbformat": 4,
  "nbformat_minor": 0,
  "metadata": {
    "colab": {
      "provenance": [],
      "authorship_tag": "ABX9TyNbD0FSWsOCaGmnrPc5Jmlg",
      "include_colab_link": true
    },
    "kernelspec": {
      "name": "python3",
      "display_name": "Python 3"
    },
    "language_info": {
      "name": "python"
    }
  },
  "cells": [
    {
      "cell_type": "markdown",
      "metadata": {
        "id": "view-in-github",
        "colab_type": "text"
      },
      "source": [
        "<a href=\"https://colab.research.google.com/github/isha8102005-alt/isha/blob/main/hello_world.ipynb\" target=\"_parent\"><img src=\"https://colab.research.google.com/assets/colab-badge.svg\" alt=\"Open In Colab\"/></a>"
      ]
    },
    {
      "cell_type": "code",
      "execution_count": 3,
      "metadata": {
        "colab": {
          "base_uri": "https://localhost:8080/"
        },
        "id": "dPyJE3Osw76a",
        "outputId": "a148b076-46c3-4079-c3cc-66eb28821cde"
      },
      "outputs": [
        {
          "output_type": "stream",
          "name": "stdout",
          "text": [
            "helloisha\n"
          ]
        }
      ],
      "source": [
        "# data anyaltics\n",
        "\"\"\"hello i am isha.i am data anyaltics from chandigaRH.\n",
        "i am 19 years old.i am from hamirpur.\"\"\"\n",
        "\n",
        "print(\"helloisha\")"
      ]
    },
    {
      "cell_type": "code",
      "source": [
        "print(\"isha kumari\")\n",
        "print(\"19\")"
      ],
      "metadata": {
        "colab": {
          "base_uri": "https://localhost:8080/"
        },
        "id": "Jpg_Dfzw1BMU",
        "outputId": "c949b26b-962c-40fd-e98c-ce6f4aa4a265"
      },
      "execution_count": 4,
      "outputs": [
        {
          "output_type": "stream",
          "name": "stdout",
          "text": [
            "isha kumari\n",
            "19\n"
          ]
        }
      ]
    },
    {
      "cell_type": "code",
      "source": [
        "# Bio data\n",
        "\"\"\"hello my name is isha kumari.\"\"\"\n",
        "print(\"bio data\")\n",
        "print(\"i am name is isha kumari\")\n",
        "print(\"my father name is MomRaj\")\n",
        "print(\"my mother name is Sunita kumari\")\n",
        "print(\"i am graduate in govt collage bhoranj\")\n",
        "print(\"My father is a teacher\")\n",
        "print(\"My mother is a house wife\")"
      ],
      "metadata": {
        "colab": {
          "base_uri": "https://localhost:8080/"
        },
        "id": "5LOpAI2B1Lz0",
        "outputId": "791bb634-6422-4525-a91f-b5dd4c1d2896"
      },
      "execution_count": 5,
      "outputs": [
        {
          "output_type": "stream",
          "name": "stdout",
          "text": [
            "bio data\n"
          ]
        }
      ]
    }
  ]
}