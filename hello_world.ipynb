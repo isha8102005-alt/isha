{
  "nbformat": 4,
  "nbformat_minor": 0,
  "metadata": {
    "colab": {
      "provenance": [],
      "authorship_tag": "ABX9TyPJijUKlCsPnKhjT5KEBvEp",
      "include_colab_link": true
    },
    "kernelspec": {
      "name": "python3",
      "display_name": "Python 3"
    },
    "language_info": {
      "name": "python"
    }
  },
  "cells": [
    {
      "cell_type": "markdown",
      "metadata": {
        "id": "view-in-github",
        "colab_type": "text"
      },
      "source": [
        "<a href=\"https://colab.research.google.com/github/isha8102005-alt/isha/blob/main/hello_world.ipynb\" target=\"_parent\"><img src=\"https://colab.research.google.com/assets/colab-badge.svg\" alt=\"Open In Colab\"/></a>"
      ]
    },
    {
      "cell_type": "code",
      "execution_count": 3,
      "metadata": {
        "colab": {
          "base_uri": "https://localhost:8080/"
        },
        "id": "dPyJE3Osw76a",
        "outputId": "a148b076-46c3-4079-c3cc-66eb28821cde"
      },
      "outputs": [
        {
          "output_type": "stream",
          "name": "stdout",
          "text": [
            "helloisha\n"
          ]
        }
      ],
      "source": [
        "# data anyaltics\n",
        "\"\"\"hello i am isha.i am data anyaltics from chandigaRH.\n",
        "i am 19 years old.i am from hamirpur.\"\"\"\n",
        "\n",
        "print(\"helloisha\")"
      ]
    },
    {
      "cell_type": "code",
      "source": [
        "print(\"isha kumari\")\n",
        "print(\"19\")"
      ],
      "metadata": {
        "colab": {
          "base_uri": "https://localhost:8080/"
        },
        "id": "Jpg_Dfzw1BMU",
        "outputId": "c949b26b-962c-40fd-e98c-ce6f4aa4a265"
      },
      "execution_count": 4,
      "outputs": [
        {
          "output_type": "stream",
          "name": "stdout",
          "text": [
            "isha kumari\n",
            "19\n"
          ]
        }
      ]
    },
    {
      "cell_type": "code",
      "source": [
        "# Bio data\n",
        "\"\"\"hello my name is isha kumari.i am graguate govt collage bhoranj. Religion- hindu\"\"\"\n",
        "print(\"Bio data\")\n",
        "print(\"Name : isha kumari\")\n",
        "print(\"Father name : MomRaj\")\n",
        "print(\"Mother name : Sunita kumari\")\n",
        "print(\"Graguation : BA\")\n",
        "PRINT(\"GENDER : Female\")\n",
        "print(\"ADDRESS: Vill-dhasman, P.O KANJIAN,Teh- Bhoranj\")\n",
        "print(\"Religion : Hindu\")\n",
        "print(\"Experence : Fresher\")\n",
        "print(\"Languages : English,Hindi\")\n",
        "print(\"Marital status : unmarried\")\n",
        "print(\"mobile number : 7875694536\")\n",
        "print(\"Email id : isha8102005@gmail.com\")\n",
        "print(\"Hobbies :Books Reding, danceing,singing\")"
      ],
      "metadata": {
        "colab": {
          "base_uri": "https://localhost:8080/"
        },
        "id": "5LOpAI2B1Lz0",
        "outputId": "791bb634-6422-4525-a91f-b5dd4c1d2896"
      },
      "execution_count": 5,
      "outputs": [
        {
          "output_type": "stream",
          "name": "stdout",
          "text": [
            "bio data\n"
          ]
        }
      ]
    }
  ]
}