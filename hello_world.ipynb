{
  "nbformat": 4,
  "nbformat_minor": 0,
  "metadata": {
    "colab": {
      "provenance": [],
      "authorship_tag": "ABX9TyMCECYK9mmbBmeqWIsC3e4Y",
      "include_colab_link": true
    },
    "kernelspec": {
      "name": "python3",
      "display_name": "Python 3"
    },
    "language_info": {
      "name": "python"
    }
  },
  "cells": [
    {
      "cell_type": "markdown",
      "metadata": {
        "id": "view-in-github",
        "colab_type": "text"
      },
      "source": [
        "<a href=\"https://colab.research.google.com/github/isha8102005-alt/isha/blob/main/hello_world.ipynb\" target=\"_parent\"><img src=\"https://colab.research.google.com/assets/colab-badge.svg\" alt=\"Open In Colab\"/></a>"
      ]
    },
    {
      "cell_type": "code",
      "execution_count": 3,
      "metadata": {
        "colab": {
          "base_uri": "https://localhost:8080/"
        },
        "id": "dPyJE3Osw76a",
        "outputId": "a148b076-46c3-4079-c3cc-66eb28821cde"
      },
      "outputs": [
        {
          "output_type": "stream",
          "name": "stdout",
          "text": [
            "helloisha\n"
          ]
        }
      ],
      "source": [
        "# data anyaltics\n",
        "\"\"\"hello i am isha.i am data anyaltics from chandigaRH.\n",
        "i am 19 years old.i am from hamirpur.\"\"\"\n",
        "\n",
        "print(\"helloisha\")"
      ]
    },
    {
      "cell_type": "code",
      "source": [
        "print(\"isha kumari\")\n",
        "print(\"19\")"
      ],
      "metadata": {
        "colab": {
          "base_uri": "https://localhost:8080/"
        },
        "id": "Jpg_Dfzw1BMU",
        "outputId": "c949b26b-962c-40fd-e98c-ce6f4aa4a265"
      },
      "execution_count": 4,
      "outputs": [
        {
          "output_type": "stream",
          "name": "stdout",
          "text": [
            "isha kumari\n",
            "19\n"
          ]
        }
      ]
    },
    {
      "cell_type": "code",
      "source": [
        "# Bio data\n",
        "\"\"\"hello my name is isha kumari.i am graguate govt collage bhoranj. Religion- hindu\"\"\"\n",
        "print(\"Bio data\")\n",
        "my_name=\"isha kumari\"\n",
        "print(\"my name is isha kumari\", my_name)\n",
        "print(\"Name : isha kumari\")\n",
        "print(\"Father name : MomRaj\")\n",
        "father_name=\"MomRaj\"\n",
        "print('my father name is Momraj')\n",
        "print(\"Mother name : Sunita kumari\")\n",
        "print(\"Graguation : BA\")\n",
        "PRINT(\"GENDER : Female\")\n",
        "print(\"ADDRESS: Vill-dhasman, P.O KANJIAN,Teh- Bhoranj\")\n",
        "print(\"Religion : Hindu\")\n",
        "print(\"Experence : Fresher\")\n",
        "print(\"Languages : English,Hindi\")\n",
        "print(\"Marital status : unmarried\")\n",
        "print(\"mobile number : 7875694536\")\n",
        "print(\"Email id : isha8102005@gmail.com\")\n",
        "print(\"Hobbies :Books Reding, danceing,singing\")"
      ],
      "metadata": {
        "colab": {
          "base_uri": "https://localhost:8080/",
          "height": 332
        },
        "id": "5LOpAI2B1Lz0",
        "outputId": "e7e12722-eca2-43a1-b564-a8412f53ea4c"
      },
      "execution_count": 14,
      "outputs": [
        {
          "output_type": "stream",
          "name": "stdout",
          "text": [
            "Bio data\n",
            "my name is isha kumari isha kumari\n",
            "Name : isha kumari\n",
            "Father name : MomRaj\n",
            "my father name is Momraj\n",
            "Mother name : Sunita kumari\n",
            "Graguation : BA\n"
          ]
        },
        {
          "output_type": "error",
          "ename": "NameError",
          "evalue": "name 'PRINT' is not defined",
          "traceback": [
            "\u001b[0;31m---------------------------------------------------------------------------\u001b[0m",
            "\u001b[0;31mNameError\u001b[0m                                 Traceback (most recent call last)",
            "\u001b[0;32m/tmp/ipython-input-2281339802.py\u001b[0m in \u001b[0;36m<cell line: 0>\u001b[0;34m()\u001b[0m\n\u001b[1;32m     10\u001b[0m \u001b[0mprint\u001b[0m\u001b[0;34m(\u001b[0m\u001b[0;34m\"Mother name : Sunita kumari\"\u001b[0m\u001b[0;34m)\u001b[0m\u001b[0;34m\u001b[0m\u001b[0;34m\u001b[0m\u001b[0m\n\u001b[1;32m     11\u001b[0m \u001b[0mprint\u001b[0m\u001b[0;34m(\u001b[0m\u001b[0;34m\"Graguation : BA\"\u001b[0m\u001b[0;34m)\u001b[0m\u001b[0;34m\u001b[0m\u001b[0;34m\u001b[0m\u001b[0m\n\u001b[0;32m---> 12\u001b[0;31m \u001b[0mPRINT\u001b[0m\u001b[0;34m(\u001b[0m\u001b[0;34m\"GENDER : Female\"\u001b[0m\u001b[0;34m)\u001b[0m\u001b[0;34m\u001b[0m\u001b[0;34m\u001b[0m\u001b[0m\n\u001b[0m\u001b[1;32m     13\u001b[0m \u001b[0mprint\u001b[0m\u001b[0;34m(\u001b[0m\u001b[0;34m\"ADDRESS: Vill-dhasman, P.O KANJIAN,Teh- Bhoranj\"\u001b[0m\u001b[0;34m)\u001b[0m\u001b[0;34m\u001b[0m\u001b[0;34m\u001b[0m\u001b[0m\n\u001b[1;32m     14\u001b[0m \u001b[0mprint\u001b[0m\u001b[0;34m(\u001b[0m\u001b[0;34m\"Religion : Hindu\"\u001b[0m\u001b[0;34m)\u001b[0m\u001b[0;34m\u001b[0m\u001b[0;34m\u001b[0m\u001b[0m\n",
            "\u001b[0;31mNameError\u001b[0m: name 'PRINT' is not defined"
          ]
        }
      ]
    },
    {
      "cell_type": "code",
      "source": [
        "a=(3)\n",
        "print(\" value of a\",a\")\n",
        "b=(3.2)\n",
        "print(\"b\")\n",
        "\n",
        "\n"
      ],
      "metadata": {
        "colab": {
          "base_uri": "https://localhost:8080/",
          "height": 106
        },
        "id": "oA-lOh-CFyJ0",
        "outputId": "25584b06-2064-4423-ff33-b46b3716680b"
      },
      "execution_count": 10,
      "outputs": [
        {
          "output_type": "error",
          "ename": "SyntaxError",
          "evalue": "unterminated string literal (detected at line 2) (ipython-input-3628854570.py, line 2)",
          "traceback": [
            "\u001b[0;36m  File \u001b[0;32m\"/tmp/ipython-input-3628854570.py\"\u001b[0;36m, line \u001b[0;32m2\u001b[0m\n\u001b[0;31m    print(\" value of a\",a\")\u001b[0m\n\u001b[0m                         ^\u001b[0m\n\u001b[0;31mSyntaxError\u001b[0m\u001b[0;31m:\u001b[0m unterminated string literal (detected at line 2)\n"
          ]
        }
      ]
    }
  ]
}